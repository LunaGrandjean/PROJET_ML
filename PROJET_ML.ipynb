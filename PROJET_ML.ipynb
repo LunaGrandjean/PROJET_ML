{
 "cells": [
  {
   "cell_type": "markdown",
   "metadata": {},
   "source": [
    "# Projet Machine learning"
   ]
  },
  {
   "cell_type": "markdown",
   "metadata": {},
   "source": [
    "## Imports"
   ]
  },
  {
   "cell_type": "code",
   "execution_count": 10,
   "metadata": {},
   "outputs": [],
   "source": [
    "import pandas as pd\n",
    "import matplotlib.pyplot as plt\n",
    "import seaborn as sns"
   ]
  },
  {
   "cell_type": "markdown",
   "metadata": {},
   "source": [
    "## Lecture du csv"
   ]
  },
  {
   "cell_type": "code",
   "execution_count": 8,
   "metadata": {},
   "outputs": [
    {
     "data": {
      "text/html": [
       "<div>\n",
       "<style scoped>\n",
       "    .dataframe tbody tr th:only-of-type {\n",
       "        vertical-align: middle;\n",
       "    }\n",
       "\n",
       "    .dataframe tbody tr th {\n",
       "        vertical-align: top;\n",
       "    }\n",
       "\n",
       "    .dataframe thead th {\n",
       "        text-align: right;\n",
       "    }\n",
       "</style>\n",
       "<table border=\"1\" class=\"dataframe\">\n",
       "  <thead>\n",
       "    <tr style=\"text-align: right;\">\n",
       "      <th></th>\n",
       "      <th>Start</th>\n",
       "      <th>Diver</th>\n",
       "      <th>Gender</th>\n",
       "      <th>Discipline</th>\n",
       "      <th>Line</th>\n",
       "      <th>Official Top</th>\n",
       "      <th>AP</th>\n",
       "      <th>RP</th>\n",
       "      <th>Card</th>\n",
       "      <th>Points</th>\n",
       "      <th>Remarks</th>\n",
       "      <th>Title Event</th>\n",
       "      <th>Event Type</th>\n",
       "      <th>Day</th>\n",
       "      <th>Category Event</th>\n",
       "    </tr>\n",
       "  </thead>\n",
       "  <tbody>\n",
       "    <tr>\n",
       "      <th>0</th>\n",
       "      <td>1</td>\n",
       "      <td>Tasos Grillakis (GRC)</td>\n",
       "      <td>M</td>\n",
       "      <td>FIM</td>\n",
       "      <td>NaN</td>\n",
       "      <td>00:00</td>\n",
       "      <td>33</td>\n",
       "      <td>23 m</td>\n",
       "      <td>YELLOW</td>\n",
       "      <td>12.0</td>\n",
       "      <td>-</td>\n",
       "      <td>Depth Event 2016</td>\n",
       "      <td>Depth Competition</td>\n",
       "      <td>2016-07-17</td>\n",
       "      <td>other</td>\n",
       "    </tr>\n",
       "    <tr>\n",
       "      <th>1</th>\n",
       "      <td>2</td>\n",
       "      <td>Antonis Papantonatos (GRC)</td>\n",
       "      <td>M</td>\n",
       "      <td>FIM</td>\n",
       "      <td>NaN</td>\n",
       "      <td>00:00</td>\n",
       "      <td>55</td>\n",
       "      <td>47 m</td>\n",
       "      <td>YELLOW</td>\n",
       "      <td>38.0</td>\n",
       "      <td>-</td>\n",
       "      <td>Depth Event 2016</td>\n",
       "      <td>Depth Competition</td>\n",
       "      <td>2016-07-17</td>\n",
       "      <td>other</td>\n",
       "    </tr>\n",
       "    <tr>\n",
       "      <th>2</th>\n",
       "      <td>3</td>\n",
       "      <td>Dimitris Koumoulos (GRC)</td>\n",
       "      <td>M</td>\n",
       "      <td>CNF</td>\n",
       "      <td>NaN</td>\n",
       "      <td>00:00</td>\n",
       "      <td>55</td>\n",
       "      <td>55 m</td>\n",
       "      <td>WHITE</td>\n",
       "      <td>55.0</td>\n",
       "      <td>-</td>\n",
       "      <td>Depth Event 2016</td>\n",
       "      <td>Depth Competition</td>\n",
       "      <td>2016-07-17</td>\n",
       "      <td>other</td>\n",
       "    </tr>\n",
       "    <tr>\n",
       "      <th>3</th>\n",
       "      <td>4</td>\n",
       "      <td>Christos Papadopoulos (GRC)</td>\n",
       "      <td>M</td>\n",
       "      <td>CWT</td>\n",
       "      <td>NaN</td>\n",
       "      <td>00:00</td>\n",
       "      <td>55</td>\n",
       "      <td>55 m</td>\n",
       "      <td>WHITE</td>\n",
       "      <td>55.0</td>\n",
       "      <td>OK</td>\n",
       "      <td>Depth Event 2016</td>\n",
       "      <td>Depth Competition</td>\n",
       "      <td>2016-07-17</td>\n",
       "      <td>other</td>\n",
       "    </tr>\n",
       "    <tr>\n",
       "      <th>4</th>\n",
       "      <td>5</td>\n",
       "      <td>Anna Chalari (GRC)</td>\n",
       "      <td>F</td>\n",
       "      <td>CWT</td>\n",
       "      <td>NaN</td>\n",
       "      <td>00:00</td>\n",
       "      <td>15</td>\n",
       "      <td>15 m</td>\n",
       "      <td>WHITE</td>\n",
       "      <td>15.0</td>\n",
       "      <td>OK</td>\n",
       "      <td>Depth Event 2016</td>\n",
       "      <td>Depth Competition</td>\n",
       "      <td>2016-07-17</td>\n",
       "      <td>other</td>\n",
       "    </tr>\n",
       "  </tbody>\n",
       "</table>\n",
       "</div>"
      ],
      "text/plain": [
       "   Start                        Diver Gender Discipline  Line Official Top  \\\n",
       "0      1        Tasos Grillakis (GRC)      M        FIM   NaN        00:00   \n",
       "1      2   Antonis Papantonatos (GRC)      M        FIM   NaN        00:00   \n",
       "2      3     Dimitris Koumoulos (GRC)      M        CNF   NaN        00:00   \n",
       "3      4  Christos Papadopoulos (GRC)      M        CWT   NaN        00:00   \n",
       "4      5           Anna Chalari (GRC)      F        CWT   NaN        00:00   \n",
       "\n",
       "   AP    RP    Card Points Remarks       Title Event         Event Type  \\\n",
       "0  33  23 m  YELLOW   12.0       -  Depth Event 2016  Depth Competition   \n",
       "1  55  47 m  YELLOW   38.0       -  Depth Event 2016  Depth Competition   \n",
       "2  55  55 m   WHITE   55.0       -  Depth Event 2016  Depth Competition   \n",
       "3  55  55 m   WHITE   55.0      OK  Depth Event 2016  Depth Competition   \n",
       "4  15  15 m   WHITE   15.0      OK  Depth Event 2016  Depth Competition   \n",
       "\n",
       "          Day Category Event  \n",
       "0  2016-07-17          other  \n",
       "1  2016-07-17          other  \n",
       "2  2016-07-17          other  \n",
       "3  2016-07-17          other  \n",
       "4  2016-07-17          other  "
      ]
     },
     "execution_count": 8,
     "metadata": {},
     "output_type": "execute_result"
    }
   ],
   "source": [
    "data = pd.read_csv(\"AIDA_Results_IA_Institut.csv\")\n",
    "\n",
    "data.head()"
   ]
  },
  {
   "cell_type": "markdown",
   "metadata": {},
   "source": [
    "## Visualisation de données"
   ]
  },
  {
   "cell_type": "markdown",
   "metadata": {},
   "source": [
    "Dans ces visualisations, nous ne prendrons pas en compte les années précédent 2000 car de 1984 à 1999 seuls des records du monde sont inscrits dans les tables, ce qui équivaut à très peu de données. "
   ]
  },
  {
   "cell_type": "code",
   "execution_count": 12,
   "metadata": {},
   "outputs": [
    {
     "name": "stdout",
     "output_type": "stream",
     "text": [
      "Start               int64\n",
      "Diver              object\n",
      "Gender             object\n",
      "Discipline         object\n",
      "Line              float64\n",
      "Official Top       object\n",
      "AP                  int64\n",
      "RP                 object\n",
      "Card               object\n",
      "Points             object\n",
      "Remarks            object\n",
      "Title Event        object\n",
      "Event Type         object\n",
      "Day                object\n",
      "Category Event     object\n",
      "dtype: object\n"
     ]
    }
   ],
   "source": [
    "# Afficher les types de données des colonnes\n",
    "print(data.dtypes)\n",
    "\n",
    "# Convertir la colonne 'Start' en type de données chaîne de caractères (str)\n",
    "data['Start'] = data['Start'].astype(str)\n",
    "\n",
    "# Filtrer les données à partir de l'année 2000\n",
    "data = data[data['Start'].str[:4].astype(int) >= 2000]"
   ]
  },
  {
   "cell_type": "code",
   "execution_count": null,
   "metadata": {},
   "outputs": [],
   "source": []
  }
 ],
 "metadata": {
  "kernelspec": {
   "display_name": "base",
   "language": "python",
   "name": "python3"
  },
  "language_info": {
   "codemirror_mode": {
    "name": "ipython",
    "version": 3
   },
   "file_extension": ".py",
   "mimetype": "text/x-python",
   "name": "python",
   "nbconvert_exporter": "python",
   "pygments_lexer": "ipython3",
   "version": "3.9.13"
  }
 },
 "nbformat": 4,
 "nbformat_minor": 2
}
